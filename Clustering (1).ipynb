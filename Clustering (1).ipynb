{
 "cells": [
  {
   "cell_type": "markdown",
   "metadata": {},
   "source": [
    "### 1.Import numpy and pandas and load data file named 'test_Y3wMUE5_7gLdaTN.csv' as test\n",
    "\n"
   ]
  },
  {
   "cell_type": "code",
   "execution_count": 55,
   "metadata": {},
   "outputs": [],
   "source": [
    "import numpy as np\n",
    "import pandas as pd\n",
    "test = pd.read_csv('test_Y3wMUE5_7gLdaTN.csv')"
   ]
  },
  {
   "cell_type": "markdown",
   "metadata": {},
   "source": [
    "### 2.Print list of column names\n"
   ]
  },
  {
   "cell_type": "code",
   "execution_count": 56,
   "metadata": {},
   "outputs": [
    {
     "data": {
      "text/plain": [
       "Index(['Loan_ID', 'Gender', 'Married', 'Dependents', 'Education',\n",
       "       'Self_Employed', 'ApplicantIncome', 'CoapplicantIncome', 'LoanAmount',\n",
       "       'Loan_Amount_Term', 'Credit_History', 'Property_Area'],\n",
       "      dtype='object')"
      ]
     },
     "execution_count": 56,
     "metadata": {},
     "output_type": "execute_result"
    }
   ],
   "source": [
    "test.columns"
   ]
  },
  {
   "cell_type": "markdown",
   "metadata": {},
   "source": [
    "### 3.Types of data columns\n"
   ]
  },
  {
   "cell_type": "code",
   "execution_count": 57,
   "metadata": {},
   "outputs": [
    {
     "data": {
      "text/plain": [
       "Loan_ID               object\n",
       "Gender                object\n",
       "Married               object\n",
       "Dependents            object\n",
       "Education             object\n",
       "Self_Employed         object\n",
       "ApplicantIncome        int64\n",
       "CoapplicantIncome      int64\n",
       "LoanAmount           float64\n",
       "Loan_Amount_Term     float64\n",
       "Credit_History       float64\n",
       "Property_Area         object\n",
       "dtype: object"
      ]
     },
     "execution_count": 57,
     "metadata": {},
     "output_type": "execute_result"
    }
   ],
   "source": [
    "test.dtypes"
   ]
  },
  {
   "cell_type": "markdown",
   "metadata": {},
   "source": [
    "### 4.Summary statistics\n"
   ]
  },
  {
   "cell_type": "code",
   "execution_count": 58,
   "metadata": {},
   "outputs": [
    {
     "data": {
      "text/html": [
       "<div>\n",
       "<style scoped>\n",
       "    .dataframe tbody tr th:only-of-type {\n",
       "        vertical-align: middle;\n",
       "    }\n",
       "\n",
       "    .dataframe tbody tr th {\n",
       "        vertical-align: top;\n",
       "    }\n",
       "\n",
       "    .dataframe thead th {\n",
       "        text-align: right;\n",
       "    }\n",
       "</style>\n",
       "<table border=\"1\" class=\"dataframe\">\n",
       "  <thead>\n",
       "    <tr style=\"text-align: right;\">\n",
       "      <th></th>\n",
       "      <th>ApplicantIncome</th>\n",
       "      <th>CoapplicantIncome</th>\n",
       "      <th>LoanAmount</th>\n",
       "      <th>Loan_Amount_Term</th>\n",
       "      <th>Credit_History</th>\n",
       "    </tr>\n",
       "  </thead>\n",
       "  <tbody>\n",
       "    <tr>\n",
       "      <th>count</th>\n",
       "      <td>367.000000</td>\n",
       "      <td>367.000000</td>\n",
       "      <td>362.000000</td>\n",
       "      <td>361.000000</td>\n",
       "      <td>338.000000</td>\n",
       "    </tr>\n",
       "    <tr>\n",
       "      <th>mean</th>\n",
       "      <td>4805.599455</td>\n",
       "      <td>1569.577657</td>\n",
       "      <td>136.132597</td>\n",
       "      <td>342.537396</td>\n",
       "      <td>0.825444</td>\n",
       "    </tr>\n",
       "    <tr>\n",
       "      <th>std</th>\n",
       "      <td>4910.685399</td>\n",
       "      <td>2334.232099</td>\n",
       "      <td>61.366652</td>\n",
       "      <td>65.156643</td>\n",
       "      <td>0.380150</td>\n",
       "    </tr>\n",
       "    <tr>\n",
       "      <th>min</th>\n",
       "      <td>0.000000</td>\n",
       "      <td>0.000000</td>\n",
       "      <td>28.000000</td>\n",
       "      <td>6.000000</td>\n",
       "      <td>0.000000</td>\n",
       "    </tr>\n",
       "    <tr>\n",
       "      <th>25%</th>\n",
       "      <td>2864.000000</td>\n",
       "      <td>0.000000</td>\n",
       "      <td>100.250000</td>\n",
       "      <td>360.000000</td>\n",
       "      <td>1.000000</td>\n",
       "    </tr>\n",
       "    <tr>\n",
       "      <th>50%</th>\n",
       "      <td>3786.000000</td>\n",
       "      <td>1025.000000</td>\n",
       "      <td>125.000000</td>\n",
       "      <td>360.000000</td>\n",
       "      <td>1.000000</td>\n",
       "    </tr>\n",
       "    <tr>\n",
       "      <th>75%</th>\n",
       "      <td>5060.000000</td>\n",
       "      <td>2430.500000</td>\n",
       "      <td>158.000000</td>\n",
       "      <td>360.000000</td>\n",
       "      <td>1.000000</td>\n",
       "    </tr>\n",
       "    <tr>\n",
       "      <th>max</th>\n",
       "      <td>72529.000000</td>\n",
       "      <td>24000.000000</td>\n",
       "      <td>550.000000</td>\n",
       "      <td>480.000000</td>\n",
       "      <td>1.000000</td>\n",
       "    </tr>\n",
       "  </tbody>\n",
       "</table>\n",
       "</div>"
      ],
      "text/plain": [
       "       ApplicantIncome  CoapplicantIncome  LoanAmount  Loan_Amount_Term  \\\n",
       "count       367.000000         367.000000  362.000000        361.000000   \n",
       "mean       4805.599455        1569.577657  136.132597        342.537396   \n",
       "std        4910.685399        2334.232099   61.366652         65.156643   \n",
       "min           0.000000           0.000000   28.000000          6.000000   \n",
       "25%        2864.000000           0.000000  100.250000        360.000000   \n",
       "50%        3786.000000        1025.000000  125.000000        360.000000   \n",
       "75%        5060.000000        2430.500000  158.000000        360.000000   \n",
       "max       72529.000000       24000.000000  550.000000        480.000000   \n",
       "\n",
       "       Credit_History  \n",
       "count      338.000000  \n",
       "mean         0.825444  \n",
       "std          0.380150  \n",
       "min          0.000000  \n",
       "25%          1.000000  \n",
       "50%          1.000000  \n",
       "75%          1.000000  \n",
       "max          1.000000  "
      ]
     },
     "execution_count": 58,
     "metadata": {},
     "output_type": "execute_result"
    }
   ],
   "source": [
    "test.describe()"
   ]
  },
  {
   "cell_type": "markdown",
   "metadata": {},
   "source": [
    "### DATA CLEANING AND PREPROCESSING"
   ]
  },
  {
   "cell_type": "code",
   "execution_count": 59,
   "metadata": {},
   "outputs": [
    {
     "data": {
      "text/plain": [
       "3500     6\n",
       "5000     6\n",
       "3333     5\n",
       "7500     4\n",
       "4333     4\n",
       "        ..\n",
       "2366     1\n",
       "2083     1\n",
       "13633    1\n",
       "3909     1\n",
       "2875     1\n",
       "Name: ApplicantIncome, Length: 314, dtype: int64"
      ]
     },
     "execution_count": 59,
     "metadata": {},
     "output_type": "execute_result"
    }
   ],
   "source": [
    "test.ApplicantIncome.value_counts()"
   ]
  },
  {
   "cell_type": "code",
   "execution_count": 60,
   "metadata": {},
   "outputs": [
    {
     "data": {
      "text/plain": [
       "1.0    279\n",
       "0.0     59\n",
       "Name: Credit_History, dtype: int64"
      ]
     },
     "execution_count": 60,
     "metadata": {},
     "output_type": "execute_result"
    }
   ],
   "source": [
    "test.Credit_History.value_counts()"
   ]
  },
  {
   "cell_type": "markdown",
   "metadata": {},
   "source": [
    "### 5.Find missing values"
   ]
  },
  {
   "cell_type": "code",
   "execution_count": 61,
   "metadata": {},
   "outputs": [
    {
     "data": {
      "text/plain": [
       "Loan_ID               0\n",
       "Gender               11\n",
       "Married               0\n",
       "Dependents           10\n",
       "Education             0\n",
       "Self_Employed        23\n",
       "ApplicantIncome       0\n",
       "CoapplicantIncome     0\n",
       "LoanAmount            5\n",
       "Loan_Amount_Term      6\n",
       "Credit_History       29\n",
       "Property_Area         0\n",
       "dtype: int64"
      ]
     },
     "execution_count": 61,
     "metadata": {},
     "output_type": "execute_result"
    }
   ],
   "source": [
    "test.isnull().sum()"
   ]
  },
  {
   "cell_type": "code",
   "execution_count": 63,
   "metadata": {},
   "outputs": [
    {
     "data": {
      "text/plain": [
       "(367, 12)"
      ]
     },
     "execution_count": 63,
     "metadata": {},
     "output_type": "execute_result"
    }
   ],
   "source": [
    "test.shape"
   ]
  },
  {
   "cell_type": "markdown",
   "metadata": {},
   "source": [
    "### 6.Impute missing values with mean (numerical variables)\n"
   ]
  },
  {
   "cell_type": "code",
   "execution_count": 64,
   "metadata": {},
   "outputs": [],
   "source": [
    "test1= test.drop(['Credit_History'], axis=1)\n",
    "test1.fillna(test1.mean(), inplace=True)\n",
    "test.iloc[:, :10] = test1.iloc[:,:]"
   ]
  },
  {
   "cell_type": "code",
   "execution_count": 65,
   "metadata": {},
   "outputs": [
    {
     "data": {
      "text/plain": [
       "Loan_ID               0\n",
       "Gender               11\n",
       "Married               0\n",
       "Dependents           10\n",
       "Education             0\n",
       "Self_Employed        23\n",
       "ApplicantIncome       0\n",
       "CoapplicantIncome     0\n",
       "LoanAmount            0\n",
       "Loan_Amount_Term      0\n",
       "Credit_History       29\n",
       "Property_Area         0\n",
       "dtype: int64"
      ]
     },
     "execution_count": 65,
     "metadata": {},
     "output_type": "execute_result"
    }
   ],
   "source": [
    "test.isnull().sum()"
   ]
  },
  {
   "cell_type": "markdown",
   "metadata": {},
   "source": [
    "### 7.Impute missing values with mode (categorical variables)\n"
   ]
  },
  {
   "cell_type": "code",
   "execution_count": 66,
   "metadata": {},
   "outputs": [],
   "source": [
    "test.Gender.fillna(test.Gender.mode()[0], inplace=True)\n",
    "test.Dependents.fillna(test.Dependents.mode()[0], inplace=True)\n",
    "test.Self_Employed.fillna(test.Self_Employed.mode()[0], inplace=True)"
   ]
  },
  {
   "cell_type": "code",
   "execution_count": 67,
   "metadata": {},
   "outputs": [],
   "source": [
    "test.fillna(0, inplace=True)"
   ]
  },
  {
   "cell_type": "code",
   "execution_count": 68,
   "metadata": {},
   "outputs": [
    {
     "data": {
      "text/plain": [
       "Loan_ID              0\n",
       "Gender               0\n",
       "Married              0\n",
       "Dependents           0\n",
       "Education            0\n",
       "Self_Employed        0\n",
       "ApplicantIncome      0\n",
       "CoapplicantIncome    0\n",
       "LoanAmount           0\n",
       "Loan_Amount_Term     0\n",
       "Credit_History       0\n",
       "Property_Area        0\n",
       "dtype: int64"
      ]
     },
     "execution_count": 68,
     "metadata": {},
     "output_type": "execute_result"
    }
   ],
   "source": [
    "test.isnull().sum()"
   ]
  },
  {
   "cell_type": "code",
   "execution_count": 69,
   "metadata": {},
   "outputs": [
    {
     "data": {
      "text/html": [
       "<div>\n",
       "<style scoped>\n",
       "    .dataframe tbody tr th:only-of-type {\n",
       "        vertical-align: middle;\n",
       "    }\n",
       "\n",
       "    .dataframe tbody tr th {\n",
       "        vertical-align: top;\n",
       "    }\n",
       "\n",
       "    .dataframe thead th {\n",
       "        text-align: right;\n",
       "    }\n",
       "</style>\n",
       "<table border=\"1\" class=\"dataframe\">\n",
       "  <thead>\n",
       "    <tr style=\"text-align: right;\">\n",
       "      <th></th>\n",
       "      <th>Loan_ID</th>\n",
       "      <th>Gender</th>\n",
       "      <th>Married</th>\n",
       "      <th>Dependents</th>\n",
       "      <th>Education</th>\n",
       "      <th>Self_Employed</th>\n",
       "      <th>ApplicantIncome</th>\n",
       "      <th>CoapplicantIncome</th>\n",
       "      <th>LoanAmount</th>\n",
       "      <th>Loan_Amount_Term</th>\n",
       "      <th>Credit_History</th>\n",
       "      <th>Property_Area</th>\n",
       "    </tr>\n",
       "  </thead>\n",
       "  <tbody>\n",
       "    <tr>\n",
       "      <th>0</th>\n",
       "      <td>LP001015</td>\n",
       "      <td>Male</td>\n",
       "      <td>Yes</td>\n",
       "      <td>0</td>\n",
       "      <td>Graduate</td>\n",
       "      <td>No</td>\n",
       "      <td>5720</td>\n",
       "      <td>0</td>\n",
       "      <td>110.0</td>\n",
       "      <td>360.0</td>\n",
       "      <td>1.0</td>\n",
       "      <td>Urban</td>\n",
       "    </tr>\n",
       "    <tr>\n",
       "      <th>1</th>\n",
       "      <td>LP001022</td>\n",
       "      <td>Male</td>\n",
       "      <td>Yes</td>\n",
       "      <td>1</td>\n",
       "      <td>Graduate</td>\n",
       "      <td>No</td>\n",
       "      <td>3076</td>\n",
       "      <td>1500</td>\n",
       "      <td>126.0</td>\n",
       "      <td>360.0</td>\n",
       "      <td>1.0</td>\n",
       "      <td>Urban</td>\n",
       "    </tr>\n",
       "    <tr>\n",
       "      <th>2</th>\n",
       "      <td>LP001031</td>\n",
       "      <td>Male</td>\n",
       "      <td>Yes</td>\n",
       "      <td>2</td>\n",
       "      <td>Graduate</td>\n",
       "      <td>No</td>\n",
       "      <td>5000</td>\n",
       "      <td>1800</td>\n",
       "      <td>208.0</td>\n",
       "      <td>360.0</td>\n",
       "      <td>1.0</td>\n",
       "      <td>Urban</td>\n",
       "    </tr>\n",
       "    <tr>\n",
       "      <th>3</th>\n",
       "      <td>LP001035</td>\n",
       "      <td>Male</td>\n",
       "      <td>Yes</td>\n",
       "      <td>2</td>\n",
       "      <td>Graduate</td>\n",
       "      <td>No</td>\n",
       "      <td>2340</td>\n",
       "      <td>2546</td>\n",
       "      <td>100.0</td>\n",
       "      <td>360.0</td>\n",
       "      <td>0.0</td>\n",
       "      <td>Urban</td>\n",
       "    </tr>\n",
       "    <tr>\n",
       "      <th>4</th>\n",
       "      <td>LP001051</td>\n",
       "      <td>Male</td>\n",
       "      <td>No</td>\n",
       "      <td>0</td>\n",
       "      <td>Not Graduate</td>\n",
       "      <td>No</td>\n",
       "      <td>3276</td>\n",
       "      <td>0</td>\n",
       "      <td>78.0</td>\n",
       "      <td>360.0</td>\n",
       "      <td>1.0</td>\n",
       "      <td>Urban</td>\n",
       "    </tr>\n",
       "    <tr>\n",
       "      <th>...</th>\n",
       "      <td>...</td>\n",
       "      <td>...</td>\n",
       "      <td>...</td>\n",
       "      <td>...</td>\n",
       "      <td>...</td>\n",
       "      <td>...</td>\n",
       "      <td>...</td>\n",
       "      <td>...</td>\n",
       "      <td>...</td>\n",
       "      <td>...</td>\n",
       "      <td>...</td>\n",
       "      <td>...</td>\n",
       "    </tr>\n",
       "    <tr>\n",
       "      <th>362</th>\n",
       "      <td>LP002971</td>\n",
       "      <td>Male</td>\n",
       "      <td>Yes</td>\n",
       "      <td>3+</td>\n",
       "      <td>Not Graduate</td>\n",
       "      <td>Yes</td>\n",
       "      <td>4009</td>\n",
       "      <td>1777</td>\n",
       "      <td>113.0</td>\n",
       "      <td>360.0</td>\n",
       "      <td>1.0</td>\n",
       "      <td>Urban</td>\n",
       "    </tr>\n",
       "    <tr>\n",
       "      <th>363</th>\n",
       "      <td>LP002975</td>\n",
       "      <td>Male</td>\n",
       "      <td>Yes</td>\n",
       "      <td>0</td>\n",
       "      <td>Graduate</td>\n",
       "      <td>No</td>\n",
       "      <td>4158</td>\n",
       "      <td>709</td>\n",
       "      <td>115.0</td>\n",
       "      <td>360.0</td>\n",
       "      <td>1.0</td>\n",
       "      <td>Urban</td>\n",
       "    </tr>\n",
       "    <tr>\n",
       "      <th>364</th>\n",
       "      <td>LP002980</td>\n",
       "      <td>Male</td>\n",
       "      <td>No</td>\n",
       "      <td>0</td>\n",
       "      <td>Graduate</td>\n",
       "      <td>No</td>\n",
       "      <td>3250</td>\n",
       "      <td>1993</td>\n",
       "      <td>126.0</td>\n",
       "      <td>360.0</td>\n",
       "      <td>0.0</td>\n",
       "      <td>Semiurban</td>\n",
       "    </tr>\n",
       "    <tr>\n",
       "      <th>365</th>\n",
       "      <td>LP002986</td>\n",
       "      <td>Male</td>\n",
       "      <td>Yes</td>\n",
       "      <td>0</td>\n",
       "      <td>Graduate</td>\n",
       "      <td>No</td>\n",
       "      <td>5000</td>\n",
       "      <td>2393</td>\n",
       "      <td>158.0</td>\n",
       "      <td>360.0</td>\n",
       "      <td>1.0</td>\n",
       "      <td>Rural</td>\n",
       "    </tr>\n",
       "    <tr>\n",
       "      <th>366</th>\n",
       "      <td>LP002989</td>\n",
       "      <td>Male</td>\n",
       "      <td>No</td>\n",
       "      <td>0</td>\n",
       "      <td>Graduate</td>\n",
       "      <td>Yes</td>\n",
       "      <td>9200</td>\n",
       "      <td>0</td>\n",
       "      <td>98.0</td>\n",
       "      <td>180.0</td>\n",
       "      <td>1.0</td>\n",
       "      <td>Rural</td>\n",
       "    </tr>\n",
       "  </tbody>\n",
       "</table>\n",
       "<p>367 rows × 12 columns</p>\n",
       "</div>"
      ],
      "text/plain": [
       "      Loan_ID Gender Married Dependents     Education Self_Employed  \\\n",
       "0    LP001015   Male     Yes          0      Graduate            No   \n",
       "1    LP001022   Male     Yes          1      Graduate            No   \n",
       "2    LP001031   Male     Yes          2      Graduate            No   \n",
       "3    LP001035   Male     Yes          2      Graduate            No   \n",
       "4    LP001051   Male      No          0  Not Graduate            No   \n",
       "..        ...    ...     ...        ...           ...           ...   \n",
       "362  LP002971   Male     Yes         3+  Not Graduate           Yes   \n",
       "363  LP002975   Male     Yes          0      Graduate            No   \n",
       "364  LP002980   Male      No          0      Graduate            No   \n",
       "365  LP002986   Male     Yes          0      Graduate            No   \n",
       "366  LP002989   Male      No          0      Graduate           Yes   \n",
       "\n",
       "     ApplicantIncome  CoapplicantIncome  LoanAmount  Loan_Amount_Term  \\\n",
       "0               5720                  0       110.0             360.0   \n",
       "1               3076               1500       126.0             360.0   \n",
       "2               5000               1800       208.0             360.0   \n",
       "3               2340               2546       100.0             360.0   \n",
       "4               3276                  0        78.0             360.0   \n",
       "..               ...                ...         ...               ...   \n",
       "362             4009               1777       113.0             360.0   \n",
       "363             4158                709       115.0             360.0   \n",
       "364             3250               1993       126.0             360.0   \n",
       "365             5000               2393       158.0             360.0   \n",
       "366             9200                  0        98.0             180.0   \n",
       "\n",
       "     Credit_History Property_Area  \n",
       "0               1.0         Urban  \n",
       "1               1.0         Urban  \n",
       "2               1.0         Urban  \n",
       "3               0.0         Urban  \n",
       "4               1.0         Urban  \n",
       "..              ...           ...  \n",
       "362             1.0         Urban  \n",
       "363             1.0         Urban  \n",
       "364             0.0     Semiurban  \n",
       "365             1.0         Rural  \n",
       "366             1.0         Rural  \n",
       "\n",
       "[367 rows x 12 columns]"
      ]
     },
     "execution_count": 69,
     "metadata": {},
     "output_type": "execute_result"
    }
   ],
   "source": [
    "test"
   ]
  },
  {
   "cell_type": "code",
   "execution_count": 70,
   "metadata": {},
   "outputs": [],
   "source": [
    "### 8.Remove irrelevant columns Loan_ID variable - Irrelevant from test and train data"
   ]
  },
  {
   "cell_type": "code",
   "execution_count": 71,
   "metadata": {},
   "outputs": [],
   "source": [
    "test.drop('Loan_ID', axis=1, inplace=True)"
   ]
  },
  {
   "cell_type": "markdown",
   "metadata": {},
   "source": [
    "### 9.Build dummy variables for categorical variables\n",
    "\n"
   ]
  },
  {
   "cell_type": "code",
   "execution_count": 72,
   "metadata": {},
   "outputs": [],
   "source": [
    "test=pd.get_dummies(test, drop_first=True)"
   ]
  },
  {
   "cell_type": "markdown",
   "metadata": {},
   "source": [
    "### 10.Get x as columns of ApplicantIncome and Credit_History\n"
   ]
  },
  {
   "cell_type": "code",
   "execution_count": 73,
   "metadata": {},
   "outputs": [],
   "source": [
    "x = test[['ApplicantIncome', 'Credit_History']].values"
   ]
  },
  {
   "cell_type": "code",
   "execution_count": null,
   "metadata": {},
   "outputs": [],
   "source": []
  },
  {
   "cell_type": "markdown",
   "metadata": {},
   "source": [
    "### 11.Import matplotlib\n"
   ]
  },
  {
   "cell_type": "code",
   "execution_count": 74,
   "metadata": {},
   "outputs": [],
   "source": [
    "import matplotlib.pyplot as plt"
   ]
  },
  {
   "cell_type": "markdown",
   "metadata": {},
   "source": [
    "### 12.Elbow method to determine K\n"
   ]
  },
  {
   "cell_type": "code",
   "execution_count": 75,
   "metadata": {},
   "outputs": [],
   "source": [
    "from sklearn.cluster import KMeans\n",
    "wcss=[]\n",
    "for i in range(1,11):\n",
    "    kmeans=KMeans(n_clusters=i,init='k-means++',random_state=8)\n",
    "    kmeans.fit(test)\n",
    "    wcss.append(kmeans.inertia_)"
   ]
  },
  {
   "cell_type": "code",
   "execution_count": 76,
   "metadata": {},
   "outputs": [
    {
     "data": {
      "image/png": "[encoded data removed]",
      "text/plain": [
       "<Figure size 432x288 with 1 Axes>"
      ]
     },
     "metadata": {
      "needs_background": "light"
     },
     "output_type": "display_data"
    }
   ],
   "source": [
    "plt.plot(range(1,11),wcss)\n",
    "plt.title('Elbow Method')\n",
    "plt.xlabel('Cluster size')\n",
    "plt.ylabel('WCSS')\n",
    "plt.show()"
   ]
  },
  {
   "cell_type": "markdown",
   "metadata": {},
   "source": [
    "### 13.fit K_means with founded K\n",
    "\n"
   ]
  },
  {
   "cell_type": "code",
   "execution_count": 77,
   "metadata": {},
   "outputs": [],
   "source": [
    "kmeans=KMeans(n_clusters=6,init='k-means++',random_state=8)\n",
    "y_kmeans=kmeans.fit_predict(x)\n"
   ]
  },
  {
   "cell_type": "markdown",
   "metadata": {},
   "source": [
    "### 14.show cluster results\n"
   ]
  },
  {
   "cell_type": "code",
   "execution_count": 78,
   "metadata": {},
   "outputs": [
    {
     "data": {
      "text/plain": [
       "array([4, 0, 4, 0, 0, 0, 0, 4, 3, 0, 0, 0, 4, 3, 4, 4, 4, 4, 2, 0, 0, 0,\n",
       "       4, 4, 4, 0, 4, 2, 4, 0, 0, 4, 0, 0, 0, 0, 2, 0, 4, 0, 4, 0, 0, 2,\n",
       "       4, 4, 4, 0, 2, 2, 0, 0, 0, 4, 4, 0, 4, 0, 0, 4, 0, 2, 4, 0, 4, 0,\n",
       "       4, 0, 2, 0, 0, 4, 4, 4, 4, 0, 0, 4, 0, 2, 4, 1, 4, 2, 4, 4, 0, 0,\n",
       "       0, 4, 0, 3, 4, 4, 4, 4, 0, 0, 2, 2, 4, 0, 4, 0, 0, 0, 0, 4, 4, 4,\n",
       "       4, 4, 0, 0, 4, 4, 0, 0, 0, 0, 0, 0, 0, 0, 3, 4, 2, 2, 0, 0, 0, 0,\n",
       "       0, 0, 4, 4, 4, 0, 0, 4, 4, 0, 2, 5, 2, 3, 0, 2, 4, 4, 0, 0, 4, 0,\n",
       "       4, 0, 4, 4, 4, 2, 4, 0, 4, 0, 0, 0, 0, 0, 0, 0, 4, 4, 4, 0, 0, 4,\n",
       "       0, 0, 4, 3, 4, 4, 4, 4, 2, 4, 4, 2, 3, 2, 4, 4, 4, 0, 2, 4, 4, 0,\n",
       "       0, 0, 2, 0, 0, 0, 0, 0, 4, 0, 4, 0, 0, 4, 4, 4, 4, 0, 0, 2, 0, 4,\n",
       "       0, 0, 0, 4, 4, 0, 0, 0, 0, 4, 3, 0, 0, 2, 0, 0, 0, 4, 0, 4, 4, 4,\n",
       "       0, 0, 0, 0, 4, 2, 4, 0, 0, 4, 4, 4, 4, 0, 4, 0, 0, 0, 0, 0, 0, 3,\n",
       "       0, 0, 4, 4, 4, 0, 0, 0, 5, 4, 0, 0, 2, 4, 0, 5, 0, 4, 4, 2, 2, 2,\n",
       "       0, 0, 4, 2, 4, 0, 0, 0, 0, 0, 2, 4, 4, 4, 2, 4, 3, 0, 0, 0, 2, 4,\n",
       "       2, 4, 4, 0, 0, 4, 4, 2, 4, 0, 4, 0, 0, 0, 0, 3, 4, 0, 0, 4, 2, 0,\n",
       "       4, 2, 0, 4, 0, 0, 0, 0, 0, 4, 0, 4, 0, 4, 2, 2, 0, 0, 0, 0, 2, 0,\n",
       "       4, 4, 4, 2, 4, 0, 0, 4, 2, 0, 4, 4, 0, 4, 2])"
      ]
     },
     "execution_count": 78,
     "metadata": {},
     "output_type": "execute_result"
    }
   ],
   "source": [
    "y_kmeans"
   ]
  },
  {
   "cell_type": "markdown",
   "metadata": {},
   "source": [
    "### 15.print cluster centers\n"
   ]
  },
  {
   "cell_type": "code",
   "execution_count": 79,
   "metadata": {},
   "outputs": [
    {
     "data": {
      "text/plain": [
       "array([[2.68754070e+03, 6.97674419e-01],\n",
       "       [7.25290000e+04, 1.00000000e+00],\n",
       "       [8.11913636e+03, 8.86363636e-01],\n",
       "       [1.43543636e+04, 7.27272727e-01],\n",
       "       [4.61591912e+03, 8.01470588e-01],\n",
       "       [2.86546667e+04, 6.66666667e-01]])"
      ]
     },
     "execution_count": 79,
     "metadata": {},
     "output_type": "execute_result"
    }
   ],
   "source": [
    "kmeans.cluster_centers_"
   ]
  },
  {
   "cell_type": "markdown",
   "metadata": {},
   "source": [
    "### 16.Lets plot those clusters!\n"
   ]
  },
  {
   "cell_type": "code",
   "execution_count": 89,
   "metadata": {},
   "outputs": [
    {
     "data": {
      "text/plain": [
       "array([[5.7200e+03, 1.0000e+00],\n",
       "       [3.0760e+03, 1.0000e+00],\n",
       "       [5.0000e+03, 1.0000e+00],\n",
       "       [2.3400e+03, 0.0000e+00],\n",
       "       [3.2760e+03, 1.0000e+00],\n",
       "       [2.1650e+03, 1.0000e+00],\n",
       "       [2.2260e+03, 1.0000e+00],\n",
       "       [3.8810e+03, 0.0000e+00],\n",
       "       [1.3633e+04, 1.0000e+00],\n",
       "       [2.4000e+03, 1.0000e+00],\n",
       "       [3.0910e+03, 1.0000e+00],\n",
       "       [2.1850e+03, 1.0000e+00],\n",
       "       [4.1660e+03, 0.0000e+00],\n",
       "       [1.2173e+04, 0.0000e+00],\n",
       "       [4.6660e+03, 1.0000e+00],\n",
       "       [5.6670e+03, 1.0000e+00],\n",
       "       [4.5830e+03, 1.0000e+00],\n",
       "       [3.7860e+03, 1.0000e+00],\n",
       "       [9.2260e+03, 1.0000e+00],\n",
       "       [1.3000e+03, 1.0000e+00],\n",
       "       [1.8880e+03, 1.0000e+00],\n",
       "       [2.0830e+03, 1.0000e+00],\n",
       "       [3.9090e+03, 1.0000e+00],\n",
       "       [3.7650e+03, 1.0000e+00],\n",
       "       [5.4000e+03, 1.0000e+00],\n",
       "       [0.0000e+00, 0.0000e+00],\n",
       "       [4.3630e+03, 0.0000e+00],\n",
       "       [7.5000e+03, 1.0000e+00],\n",
       "       [3.7720e+03, 0.0000e+00],\n",
       "       [2.9420e+03, 1.0000e+00],\n",
       "       [2.4780e+03, 1.0000e+00],\n",
       "       [6.2500e+03, 1.0000e+00],\n",
       "       [3.2680e+03, 1.0000e+00],\n",
       "       [2.7830e+03, 1.0000e+00],\n",
       "       [2.7400e+03, 1.0000e+00],\n",
       "       [3.1500e+03, 0.0000e+00],\n",
       "       [7.3500e+03, 1.0000e+00],\n",
       "       [2.2670e+03, 1.0000e+00],\n",
       "       [5.8330e+03, 1.0000e+00],\n",
       "       [3.6430e+03, 1.0000e+00],\n",
       "       [5.6290e+03, 1.0000e+00],\n",
       "       [3.6440e+03, 1.0000e+00],\n",
       "       [1.7500e+03, 1.0000e+00],\n",
       "       [6.5000e+03, 1.0000e+00],\n",
       "       [3.6660e+03, 1.0000e+00],\n",
       "       [4.2600e+03, 0.0000e+00],\n",
       "       [4.1630e+03, 1.0000e+00],\n",
       "       [2.3560e+03, 1.0000e+00],\n",
       "       [6.7920e+03, 1.0000e+00],\n",
       "       [8.0000e+03, 1.0000e+00],\n",
       "       [2.4190e+03, 1.0000e+00],\n",
       "       [3.5000e+03, 1.0000e+00],\n",
       "       [3.5000e+03, 1.0000e+00],\n",
       "       [4.1160e+03, 1.0000e+00],\n",
       "       [5.2930e+03, 1.0000e+00],\n",
       "       [2.7500e+03, 0.0000e+00],\n",
       "       [4.4020e+03, 1.0000e+00],\n",
       "       [3.6130e+03, 1.0000e+00],\n",
       "       [2.7790e+03, 0.0000e+00],\n",
       "       [4.7200e+03, 1.0000e+00],\n",
       "       [2.4150e+03, 1.0000e+00],\n",
       "       [7.0160e+03, 1.0000e+00],\n",
       "       [4.9680e+03, 1.0000e+00],\n",
       "       [2.1010e+03, 0.0000e+00],\n",
       "       [4.4900e+03, 1.0000e+00],\n",
       "       [2.9170e+03, 1.0000e+00],\n",
       "       [4.7000e+03, 0.0000e+00],\n",
       "       [3.4450e+03, 0.0000e+00],\n",
       "       [7.6660e+03, 1.0000e+00],\n",
       "       [2.4580e+03, 0.0000e+00],\n",
       "       [3.2500e+03, 1.0000e+00],\n",
       "       [4.4630e+03, 1.0000e+00],\n",
       "       [4.0830e+03, 1.0000e+00],\n",
       "       [3.9000e+03, 1.0000e+00],\n",
       "       [4.7500e+03, 1.0000e+00],\n",
       "       [3.5830e+03, 1.0000e+00],\n",
       "       [3.1890e+03, 1.0000e+00],\n",
       "       [6.3560e+03, 1.0000e+00],\n",
       "       [3.4130e+03, 1.0000e+00],\n",
       "       [7.9500e+03, 1.0000e+00],\n",
       "       [3.8290e+03, 0.0000e+00],\n",
       "       [7.2529e+04, 1.0000e+00],\n",
       "       [4.1360e+03, 0.0000e+00],\n",
       "       [8.4490e+03, 1.0000e+00],\n",
       "       [4.4560e+03, 0.0000e+00],\n",
       "       [4.6350e+03, 1.0000e+00],\n",
       "       [3.5710e+03, 1.0000e+00],\n",
       "       [3.0660e+03, 1.0000e+00],\n",
       "       [3.2350e+03, 1.0000e+00],\n",
       "       [5.0580e+03, 1.0000e+00],\n",
       "       [3.1880e+03, 0.0000e+00],\n",
       "       [1.3518e+04, 1.0000e+00],\n",
       "       [4.3640e+03, 1.0000e+00],\n",
       "       [4.7660e+03, 1.0000e+00],\n",
       "       [4.6090e+03, 0.0000e+00],\n",
       "       [6.2600e+03, 1.0000e+00],\n",
       "       [3.3330e+03, 1.0000e+00],\n",
       "       [3.5000e+03, 1.0000e+00],\n",
       "       [9.7190e+03, 1.0000e+00],\n",
       "       [6.8350e+03, 0.0000e+00],\n",
       "       [4.4520e+03, 1.0000e+00],\n",
       "       [2.2620e+03, 0.0000e+00],\n",
       "       [3.9010e+03, 1.0000e+00],\n",
       "       [2.6870e+03, 1.0000e+00],\n",
       "       [2.2430e+03, 0.0000e+00],\n",
       "       [3.4170e+03, 1.0000e+00],\n",
       "       [1.5960e+03, 0.0000e+00],\n",
       "       [4.5130e+03, 1.0000e+00],\n",
       "       [4.5000e+03, 1.0000e+00],\n",
       "       [4.5230e+03, 1.0000e+00],\n",
       "       [4.7420e+03, 1.0000e+00],\n",
       "       [4.0820e+03, 1.0000e+00],\n",
       "       [3.4170e+03, 1.0000e+00],\n",
       "       [2.9220e+03, 1.0000e+00],\n",
       "       [4.1670e+03, 1.0000e+00],\n",
       "       [4.2430e+03, 0.0000e+00],\n",
       "       [0.0000e+00, 1.0000e+00],\n",
       "       [1.5160e+03, 0.0000e+00],\n",
       "       [1.7620e+03, 0.0000e+00],\n",
       "       [7.2400e+02, 0.0000e+00],\n",
       "       [3.1250e+03, 1.0000e+00],\n",
       "       [2.3330e+03, 1.0000e+00],\n",
       "       [3.3500e+03, 1.0000e+00],\n",
       "       [2.5000e+03, 0.0000e+00],\n",
       "       [1.2500e+04, 0.0000e+00],\n",
       "       [4.6670e+03, 1.0000e+00],\n",
       "       [6.5000e+03, 0.0000e+00],\n",
       "       [7.5000e+03, 1.0000e+00],\n",
       "       [3.0730e+03, 1.0000e+00],\n",
       "       [3.3210e+03, 1.0000e+00],\n",
       "       [3.3330e+03, 1.0000e+00],\n",
       "       [3.3910e+03, 1.0000e+00],\n",
       "       [3.3430e+03, 1.0000e+00],\n",
       "       [3.6200e+03, 1.0000e+00],\n",
       "       [4.0000e+03, 1.0000e+00],\n",
       "       [4.2580e+03, 1.0000e+00],\n",
       "       [4.5000e+03, 1.0000e+00],\n",
       "       [2.0140e+03, 1.0000e+00],\n",
       "       [3.3330e+03, 1.0000e+00],\n",
       "       [4.0830e+03, 0.0000e+00],\n",
       "       [4.7270e+03, 0.0000e+00],\n",
       "       [3.0890e+03, 1.0000e+00],\n",
       "       [6.7940e+03, 0.0000e+00],\n",
       "       [3.2000e+04, 0.0000e+00],\n",
       "       [1.0890e+04, 1.0000e+00],\n",
       "       [1.2941e+04, 1.0000e+00],\n",
       "       [3.2760e+03, 1.0000e+00],\n",
       "       [8.7030e+03, 0.0000e+00],\n",
       "       [4.7420e+03, 1.0000e+00],\n",
       "       [5.9000e+03, 1.0000e+00],\n",
       "       [3.0710e+03, 1.0000e+00],\n",
       "       [2.7830e+03, 1.0000e+00],\n",
       "       [5.0000e+03, 1.0000e+00],\n",
       "       [2.4630e+03, 0.0000e+00],\n",
       "       [4.8550e+03, 1.0000e+00],\n",
       "       [1.5990e+03, 1.0000e+00],\n",
       "       [4.2460e+03, 1.0000e+00],\n",
       "       [4.3330e+03, 1.0000e+00],\n",
       "       [5.8230e+03, 1.0000e+00],\n",
       "       [7.8950e+03, 1.0000e+00],\n",
       "       [4.1500e+03, 1.0000e+00],\n",
       "       [2.9640e+03, 0.0000e+00],\n",
       "       [5.5830e+03, 1.0000e+00],\n",
       "       [2.7080e+03, 1.0000e+00],\n",
       "       [3.1800e+03, 0.0000e+00],\n",
       "       [2.2680e+03, 0.0000e+00],\n",
       "       [1.1410e+03, 0.0000e+00],\n",
       "       [3.0420e+03, 1.0000e+00],\n",
       "       [1.7500e+03, 0.0000e+00],\n",
       "       [3.5640e+03, 1.0000e+00],\n",
       "       [3.9580e+03, 1.0000e+00],\n",
       "       [4.4830e+03, 1.0000e+00],\n",
       "       [5.2250e+03, 1.0000e+00],\n",
       "       [3.0170e+03, 0.0000e+00],\n",
       "       [2.4310e+03, 0.0000e+00],\n",
       "       [4.9120e+03, 1.0000e+00],\n",
       "       [2.5000e+03, 1.0000e+00],\n",
       "       [2.9180e+03, 0.0000e+00],\n",
       "       [5.1280e+03, 1.0000e+00],\n",
       "       [1.5312e+04, 0.0000e+00],\n",
       "       [3.9580e+03, 1.0000e+00],\n",
       "       [4.3340e+03, 1.0000e+00],\n",
       "       [4.3580e+03, 1.0000e+00],\n",
       "       [4.0000e+03, 1.0000e+00],\n",
       "       [1.0166e+04, 1.0000e+00],\n",
       "       [4.4830e+03, 0.0000e+00],\n",
       "       [4.5210e+03, 1.0000e+00],\n",
       "       [9.1670e+03, 1.0000e+00],\n",
       "       [1.3083e+04, 1.0000e+00],\n",
       "       [7.8740e+03, 1.0000e+00],\n",
       "       [4.3330e+03, 1.0000e+00],\n",
       "       [4.0830e+03, 1.0000e+00],\n",
       "       [3.7850e+03, 0.0000e+00],\n",
       "       [2.6540e+03, 0.0000e+00],\n",
       "       [1.0000e+04, 1.0000e+00],\n",
       "       [5.8330e+03, 1.0000e+00],\n",
       "       [4.7960e+03, 0.0000e+00],\n",
       "       [2.0000e+03, 1.0000e+00],\n",
       "       [2.5400e+03, 0.0000e+00],\n",
       "       [1.9000e+03, 1.0000e+00],\n",
       "       [8.7060e+03, 1.0000e+00],\n",
       "       [2.8550e+03, 1.0000e+00],\n",
       "       [3.0160e+03, 0.0000e+00],\n",
       "       [3.1590e+03, 1.0000e+00],\n",
       "       [1.9370e+03, 1.0000e+00],\n",
       "       [2.6130e+03, 1.0000e+00],\n",
       "       [4.9600e+03, 1.0000e+00],\n",
       "       [3.0740e+03, 1.0000e+00],\n",
       "       [4.2130e+03, 1.0000e+00],\n",
       "       [2.0380e+03, 1.0000e+00],\n",
       "       [2.3620e+03, 1.0000e+00],\n",
       "       [5.3330e+03, 0.0000e+00],\n",
       "       [5.3840e+03, 1.0000e+00],\n",
       "       [5.7080e+03, 1.0000e+00],\n",
       "       [3.7540e+03, 1.0000e+00],\n",
       "       [2.9140e+03, 1.0000e+00],\n",
       "       [2.7470e+03, 1.0000e+00],\n",
       "       [7.8300e+03, 1.0000e+00],\n",
       "       [3.5070e+03, 1.0000e+00],\n",
       "       [3.7470e+03, 1.0000e+00],\n",
       "       [2.1660e+03, 0.0000e+00],\n",
       "       [3.5000e+03, 1.0000e+00],\n",
       "       [2.8960e+03, 1.0000e+00],\n",
       "       [5.0620e+03, 1.0000e+00],\n",
       "       [5.1840e+03, 0.0000e+00],\n",
       "       [2.5450e+03, 1.0000e+00],\n",
       "       [2.5530e+03, 1.0000e+00],\n",
       "       [3.4360e+03, 1.0000e+00],\n",
       "       [2.4120e+03, 1.0000e+00],\n",
       "       [5.1800e+03, 0.0000e+00],\n",
       "       [1.4911e+04, 1.0000e+00],\n",
       "       [2.8600e+03, 1.0000e+00],\n",
       "       [1.1730e+03, 1.0000e+00],\n",
       "       [7.6000e+03, 1.0000e+00],\n",
       "       [2.1570e+03, 1.0000e+00],\n",
       "       [2.2310e+03, 0.0000e+00],\n",
       "       [2.2740e+03, 0.0000e+00],\n",
       "       [6.1660e+03, 1.0000e+00],\n",
       "       [2.5130e+03, 1.0000e+00],\n",
       "       [4.3330e+03, 1.0000e+00],\n",
       "       [3.8440e+03, 1.0000e+00],\n",
       "       [3.8870e+03, 0.0000e+00],\n",
       "       [3.5100e+03, 1.0000e+00],\n",
       "       [2.5390e+03, 0.0000e+00],\n",
       "       [2.1070e+03, 1.0000e+00],\n",
       "       [3.1860e+03, 0.0000e+00],\n",
       "       [5.0000e+03, 1.0000e+00],\n",
       "       [1.0000e+04, 1.0000e+00],\n",
       "       [3.9430e+03, 1.0000e+00],\n",
       "       [2.9250e+03, 1.0000e+00],\n",
       "       [3.2420e+03, 0.0000e+00],\n",
       "       [3.8630e+03, 1.0000e+00],\n",
       "       [4.0280e+03, 1.0000e+00],\n",
       "       [4.0100e+03, 1.0000e+00],\n",
       "       [3.7190e+03, 1.0000e+00],\n",
       "       [2.8580e+03, 0.0000e+00],\n",
       "       [3.8330e+03, 1.0000e+00],\n",
       "       [3.3330e+03, 1.0000e+00],\n",
       "       [3.0070e+03, 1.0000e+00],\n",
       "       [1.8500e+03, 0.0000e+00],\n",
       "       [2.7920e+03, 1.0000e+00],\n",
       "       [2.9820e+03, 1.0000e+00],\n",
       "       [3.4170e+03, 0.0000e+00],\n",
       "       [1.8840e+04, 1.0000e+00],\n",
       "       [2.9950e+03, 1.0000e+00],\n",
       "       [3.5790e+03, 0.0000e+00],\n",
       "       [3.8350e+03, 0.0000e+00],\n",
       "       [3.8540e+03, 1.0000e+00],\n",
       "       [5.8330e+03, 0.0000e+00],\n",
       "       [3.5080e+03, 1.0000e+00],\n",
       "       [1.6350e+03, 1.0000e+00],\n",
       "       [3.3330e+03, 1.0000e+00],\n",
       "       [2.4797e+04, 1.0000e+00],\n",
       "       [5.6670e+03, 0.0000e+00],\n",
       "       [3.5000e+03, 0.0000e+00],\n",
       "       [2.7730e+03, 1.0000e+00],\n",
       "       [6.5000e+03, 1.0000e+00],\n",
       "       [5.7690e+03, 1.0000e+00],\n",
       "       [3.6340e+03, 0.0000e+00],\n",
       "       [2.9167e+04, 1.0000e+00],\n",
       "       [2.1660e+03, 1.0000e+00],\n",
       "       [5.0000e+03, 1.0000e+00],\n",
       "       [5.5300e+03, 0.0000e+00],\n",
       "       [9.0000e+03, 1.0000e+00],\n",
       "       [1.0000e+04, 1.0000e+00],\n",
       "       [8.7500e+03, 1.0000e+00],\n",
       "       [2.1570e+03, 0.0000e+00],\n",
       "       [1.9720e+03, 1.0000e+00],\n",
       "       [4.9830e+03, 1.0000e+00],\n",
       "       [8.3330e+03, 1.0000e+00],\n",
       "       [3.6670e+03, 1.0000e+00],\n",
       "       [3.1660e+03, 1.0000e+00],\n",
       "       [3.2710e+03, 1.0000e+00],\n",
       "       [2.2410e+03, 0.0000e+00],\n",
       "       [1.7920e+03, 1.0000e+00],\n",
       "       [2.6660e+03, 1.0000e+00],\n",
       "       [6.4780e+03, 1.0000e+00],\n",
       "       [3.8080e+03, 1.0000e+00],\n",
       "       [3.7290e+03, 1.0000e+00],\n",
       "       [4.1200e+03, 1.0000e+00],\n",
       "       [7.5000e+03, 1.0000e+00],\n",
       "       [6.3000e+03, 0.0000e+00],\n",
       "       [1.4987e+04, 1.0000e+00],\n",
       "       [5.7000e+02, 1.0000e+00],\n",
       "       [2.6000e+03, 1.0000e+00],\n",
       "       [2.7330e+03, 0.0000e+00],\n",
       "       [7.5000e+03, 1.0000e+00],\n",
       "       [3.8590e+03, 1.0000e+00],\n",
       "       [6.8250e+03, 1.0000e+00],\n",
       "       [3.7080e+03, 1.0000e+00],\n",
       "       [5.3140e+03, 1.0000e+00],\n",
       "       [2.3660e+03, 0.0000e+00],\n",
       "       [2.0660e+03, 1.0000e+00],\n",
       "       [5.0000e+03, 1.0000e+00],\n",
       "       [3.7670e+03, 1.0000e+00],\n",
       "       [7.8590e+03, 1.0000e+00],\n",
       "       [4.2830e+03, 1.0000e+00],\n",
       "       [1.7000e+03, 0.0000e+00],\n",
       "       [4.7680e+03, 1.0000e+00],\n",
       "       [3.0830e+03, 1.0000e+00],\n",
       "       [2.6670e+03, 1.0000e+00],\n",
       "       [1.6470e+03, 1.0000e+00],\n",
       "       [3.4000e+03, 1.0000e+00],\n",
       "       [1.6000e+04, 1.0000e+00],\n",
       "       [5.3330e+03, 1.0000e+00],\n",
       "       [2.8750e+03, 0.0000e+00],\n",
       "       [2.6000e+03, 1.0000e+00],\n",
       "       [5.0410e+03, 1.0000e+00],\n",
       "       [6.9580e+03, 1.0000e+00],\n",
       "       [3.5000e+03, 0.0000e+00],\n",
       "       [5.5090e+03, 1.0000e+00],\n",
       "       [9.6990e+03, 1.0000e+00],\n",
       "       [3.6210e+03, 1.0000e+00],\n",
       "       [4.7090e+03, 1.0000e+00],\n",
       "       [1.5160e+03, 1.0000e+00],\n",
       "       [2.4000e+03, 1.0000e+00],\n",
       "       [3.0150e+03, 0.0000e+00],\n",
       "       [2.2920e+03, 1.0000e+00],\n",
       "       [2.3600e+03, 1.0000e+00],\n",
       "       [4.3330e+03, 0.0000e+00],\n",
       "       [2.6230e+03, 1.0000e+00],\n",
       "       [3.9720e+03, 1.0000e+00],\n",
       "       [3.5220e+03, 1.0000e+00],\n",
       "       [4.7000e+03, 1.0000e+00],\n",
       "       [6.8580e+03, 1.0000e+00],\n",
       "       [8.3340e+03, 1.0000e+00],\n",
       "       [3.3910e+03, 0.0000e+00],\n",
       "       [2.8680e+03, 1.0000e+00],\n",
       "       [3.4180e+03, 1.0000e+00],\n",
       "       [2.5000e+03, 1.0000e+00],\n",
       "       [8.6670e+03, 1.0000e+00],\n",
       "       [2.2830e+03, 0.0000e+00],\n",
       "       [5.8170e+03, 1.0000e+00],\n",
       "       [5.1190e+03, 1.0000e+00],\n",
       "       [5.3160e+03, 0.0000e+00],\n",
       "       [7.6030e+03, 1.0000e+00],\n",
       "       [3.7910e+03, 1.0000e+00],\n",
       "       [2.5000e+03, 1.0000e+00],\n",
       "       [3.1320e+03, 0.0000e+00],\n",
       "       [4.0000e+03, 1.0000e+00],\n",
       "       [8.5500e+03, 0.0000e+00],\n",
       "       [2.2690e+03, 1.0000e+00],\n",
       "       [4.0090e+03, 1.0000e+00],\n",
       "       [4.1580e+03, 1.0000e+00],\n",
       "       [3.2500e+03, 0.0000e+00],\n",
       "       [5.0000e+03, 1.0000e+00],\n",
       "       [9.2000e+03, 1.0000e+00]])"
      ]
     },
     "execution_count": 89,
     "metadata": {},
     "output_type": "execute_result"
    }
   ],
   "source": [
    "x"
   ]
  },
  {
   "cell_type": "code",
   "execution_count": 80,
   "metadata": {},
   "outputs": [
    {
     "data": {
      "text/html": [
       "<div>\n",
       "<style scoped>\n",
       "    .dataframe tbody tr th:only-of-type {\n",
       "        vertical-align: middle;\n",
       "    }\n",
       "\n",
       "    .dataframe tbody tr th {\n",
       "        vertical-align: top;\n",
       "    }\n",
       "\n",
       "    .dataframe thead th {\n",
       "        text-align: right;\n",
       "    }\n",
       "</style>\n",
       "<table border=\"1\" class=\"dataframe\">\n",
       "  <thead>\n",
       "    <tr style=\"text-align: right;\">\n",
       "      <th></th>\n",
       "      <th>ApplicantIncome</th>\n",
       "      <th>CoapplicantIncome</th>\n",
       "      <th>LoanAmount</th>\n",
       "      <th>Loan_Amount_Term</th>\n",
       "      <th>Credit_History</th>\n",
       "      <th>Gender_Male</th>\n",
       "      <th>Married_Yes</th>\n",
       "      <th>Dependents_1</th>\n",
       "      <th>Dependents_2</th>\n",
       "      <th>Dependents_3+</th>\n",
       "      <th>Education_Not Graduate</th>\n",
       "      <th>Self_Employed_Yes</th>\n",
       "      <th>Property_Area_Semiurban</th>\n",
       "      <th>Property_Area_Urban</th>\n",
       "    </tr>\n",
       "  </thead>\n",
       "  <tbody>\n",
       "    <tr>\n",
       "      <th>1</th>\n",
       "      <td>3076</td>\n",
       "      <td>1500</td>\n",
       "      <td>126.0</td>\n",
       "      <td>360.0</td>\n",
       "      <td>1.0</td>\n",
       "      <td>1</td>\n",
       "      <td>1</td>\n",
       "      <td>1</td>\n",
       "      <td>0</td>\n",
       "      <td>0</td>\n",
       "      <td>0</td>\n",
       "      <td>0</td>\n",
       "      <td>0</td>\n",
       "      <td>1</td>\n",
       "    </tr>\n",
       "    <tr>\n",
       "      <th>3</th>\n",
       "      <td>2340</td>\n",
       "      <td>2546</td>\n",
       "      <td>100.0</td>\n",
       "      <td>360.0</td>\n",
       "      <td>0.0</td>\n",
       "      <td>1</td>\n",
       "      <td>1</td>\n",
       "      <td>0</td>\n",
       "      <td>1</td>\n",
       "      <td>0</td>\n",
       "      <td>0</td>\n",
       "      <td>0</td>\n",
       "      <td>0</td>\n",
       "      <td>1</td>\n",
       "    </tr>\n",
       "    <tr>\n",
       "      <th>4</th>\n",
       "      <td>3276</td>\n",
       "      <td>0</td>\n",
       "      <td>78.0</td>\n",
       "      <td>360.0</td>\n",
       "      <td>1.0</td>\n",
       "      <td>1</td>\n",
       "      <td>0</td>\n",
       "      <td>0</td>\n",
       "      <td>0</td>\n",
       "      <td>0</td>\n",
       "      <td>1</td>\n",
       "      <td>0</td>\n",
       "      <td>0</td>\n",
       "      <td>1</td>\n",
       "    </tr>\n",
       "    <tr>\n",
       "      <th>5</th>\n",
       "      <td>2165</td>\n",
       "      <td>3422</td>\n",
       "      <td>152.0</td>\n",
       "      <td>360.0</td>\n",
       "      <td>1.0</td>\n",
       "      <td>1</td>\n",
       "      <td>1</td>\n",
       "      <td>0</td>\n",
       "      <td>0</td>\n",
       "      <td>0</td>\n",
       "      <td>1</td>\n",
       "      <td>1</td>\n",
       "      <td>0</td>\n",
       "      <td>1</td>\n",
       "    </tr>\n",
       "    <tr>\n",
       "      <th>6</th>\n",
       "      <td>2226</td>\n",
       "      <td>0</td>\n",
       "      <td>59.0</td>\n",
       "      <td>360.0</td>\n",
       "      <td>1.0</td>\n",
       "      <td>0</td>\n",
       "      <td>0</td>\n",
       "      <td>1</td>\n",
       "      <td>0</td>\n",
       "      <td>0</td>\n",
       "      <td>1</td>\n",
       "      <td>0</td>\n",
       "      <td>1</td>\n",
       "      <td>0</td>\n",
       "    </tr>\n",
       "    <tr>\n",
       "      <th>...</th>\n",
       "      <td>...</td>\n",
       "      <td>...</td>\n",
       "      <td>...</td>\n",
       "      <td>...</td>\n",
       "      <td>...</td>\n",
       "      <td>...</td>\n",
       "      <td>...</td>\n",
       "      <td>...</td>\n",
       "      <td>...</td>\n",
       "      <td>...</td>\n",
       "      <td>...</td>\n",
       "      <td>...</td>\n",
       "      <td>...</td>\n",
       "      <td>...</td>\n",
       "    </tr>\n",
       "    <tr>\n",
       "      <th>351</th>\n",
       "      <td>2283</td>\n",
       "      <td>15000</td>\n",
       "      <td>106.0</td>\n",
       "      <td>360.0</td>\n",
       "      <td>0.0</td>\n",
       "      <td>1</td>\n",
       "      <td>0</td>\n",
       "      <td>0</td>\n",
       "      <td>0</td>\n",
       "      <td>0</td>\n",
       "      <td>0</td>\n",
       "      <td>0</td>\n",
       "      <td>0</td>\n",
       "      <td>0</td>\n",
       "    </tr>\n",
       "    <tr>\n",
       "      <th>357</th>\n",
       "      <td>2500</td>\n",
       "      <td>0</td>\n",
       "      <td>60.0</td>\n",
       "      <td>360.0</td>\n",
       "      <td>1.0</td>\n",
       "      <td>1</td>\n",
       "      <td>0</td>\n",
       "      <td>0</td>\n",
       "      <td>0</td>\n",
       "      <td>0</td>\n",
       "      <td>0</td>\n",
       "      <td>0</td>\n",
       "      <td>0</td>\n",
       "      <td>1</td>\n",
       "    </tr>\n",
       "    <tr>\n",
       "      <th>358</th>\n",
       "      <td>3132</td>\n",
       "      <td>0</td>\n",
       "      <td>76.0</td>\n",
       "      <td>360.0</td>\n",
       "      <td>0.0</td>\n",
       "      <td>1</td>\n",
       "      <td>1</td>\n",
       "      <td>0</td>\n",
       "      <td>1</td>\n",
       "      <td>0</td>\n",
       "      <td>1</td>\n",
       "      <td>0</td>\n",
       "      <td>0</td>\n",
       "      <td>0</td>\n",
       "    </tr>\n",
       "    <tr>\n",
       "      <th>361</th>\n",
       "      <td>2269</td>\n",
       "      <td>2167</td>\n",
       "      <td>99.0</td>\n",
       "      <td>360.0</td>\n",
       "      <td>1.0</td>\n",
       "      <td>1</td>\n",
       "      <td>1</td>\n",
       "      <td>1</td>\n",
       "      <td>0</td>\n",
       "      <td>0</td>\n",
       "      <td>0</td>\n",
       "      <td>0</td>\n",
       "      <td>1</td>\n",
       "      <td>0</td>\n",
       "    </tr>\n",
       "    <tr>\n",
       "      <th>364</th>\n",
       "      <td>3250</td>\n",
       "      <td>1993</td>\n",
       "      <td>126.0</td>\n",
       "      <td>360.0</td>\n",
       "      <td>0.0</td>\n",
       "      <td>1</td>\n",
       "      <td>0</td>\n",
       "      <td>0</td>\n",
       "      <td>0</td>\n",
       "      <td>0</td>\n",
       "      <td>0</td>\n",
       "      <td>0</td>\n",
       "      <td>1</td>\n",
       "      <td>0</td>\n",
       "    </tr>\n",
       "  </tbody>\n",
       "</table>\n",
       "<p>172 rows × 14 columns</p>\n",
       "</div>"
      ],
      "text/plain": [
       "     ApplicantIncome  CoapplicantIncome  LoanAmount  Loan_Amount_Term  \\\n",
       "1               3076               1500       126.0             360.0   \n",
       "3               2340               2546       100.0             360.0   \n",
       "4               3276                  0        78.0             360.0   \n",
       "5               2165               3422       152.0             360.0   \n",
       "6               2226                  0        59.0             360.0   \n",
       "..               ...                ...         ...               ...   \n",
       "351             2283              15000       106.0             360.0   \n",
       "357             2500                  0        60.0             360.0   \n",
       "358             3132                  0        76.0             360.0   \n",
       "361             2269               2167        99.0             360.0   \n",
       "364             3250               1993       126.0             360.0   \n",
       "\n",
       "     Credit_History  Gender_Male  Married_Yes  Dependents_1  Dependents_2  \\\n",
       "1               1.0            1            1             1             0   \n",
       "3               0.0            1            1             0             1   \n",
       "4               1.0            1            0             0             0   \n",
       "5               1.0            1            1             0             0   \n",
       "6               1.0            0            0             1             0   \n",
       "..              ...          ...          ...           ...           ...   \n",
       "351             0.0            1            0             0             0   \n",
       "357             1.0            1            0             0             0   \n",
       "358             0.0            1            1             0             1   \n",
       "361             1.0            1            1             1             0   \n",
       "364             0.0            1            0             0             0   \n",
       "\n",
       "     Dependents_3+  Education_Not Graduate  Self_Employed_Yes  \\\n",
       "1                0                       0                  0   \n",
       "3                0                       0                  0   \n",
       "4                0                       1                  0   \n",
       "5                0                       1                  1   \n",
       "6                0                       1                  0   \n",
       "..             ...                     ...                ...   \n",
       "351              0                       0                  0   \n",
       "357              0                       0                  0   \n",
       "358              0                       1                  0   \n",
       "361              0                       0                  0   \n",
       "364              0                       0                  0   \n",
       "\n",
       "     Property_Area_Semiurban  Property_Area_Urban  \n",
       "1                          0                    1  \n",
       "3                          0                    1  \n",
       "4                          0                    1  \n",
       "5                          0                    1  \n",
       "6                          1                    0  \n",
       "..                       ...                  ...  \n",
       "351                        0                    0  \n",
       "357                        0                    1  \n",
       "358                        0                    0  \n",
       "361                        1                    0  \n",
       "364                        1                    0  \n",
       "\n",
       "[172 rows x 14 columns]"
      ]
     },
     "execution_count": 80,
     "metadata": {},
     "output_type": "execute_result"
    }
   ],
   "source": [
    "test[y_kmeans==0]"
   ]
  },
  {
   "cell_type": "code",
   "execution_count": 92,
   "metadata": {},
   "outputs": [
    {
     "data": {
      "text/plain": [
       "Text(0.5, 1.0, 'Clusters')"
      ]
     },
     "execution_count": 92,
     "metadata": {},
     "output_type": "execute_result"
    },
    {
     "data": {
      "image/png": "[encoded data removed]",
      "text/plain": [
       "<Figure size 432x288 with 2 Axes>"
      ]
     },
     "metadata": {
      "needs_background": "light"
     },
     "output_type": "display_data"
    }
   ],
   "source": [
    "y_kmeans = pd.DataFrame(y_kmeans, columns=['group'])\n",
    "x= pd.DataFrame(x, columns=['ApplicantIncome', 'Credit_History'])\n",
    "x = pd.concat([x,y_kmeans], axis=1)\n",
    "x.plot.scatter(x='ApplicantIncome', y='Credit_History', c='group', colormap=\"Set1\")\n",
    "plt.title('Clusters')"
   ]
  },
  {
   "cell_type": "code",
   "execution_count": 81,
   "metadata": {},
   "outputs": [
    {
     "data": {
      "image/png": "[encoded data removed]",
      "text/plain": [
       "<Figure size 216x216 with 1 Axes>"
      ]
     },
     "metadata": {
      "needs_background": "light"
     },
     "output_type": "display_data"
    }
   ],
   "source": [
    "#Lets plot those clusters!\n",
    "fig = plt.figure(figsize = (3,3))\n",
    "plt.scatter(x[y_kmeans==0,0],x[y_kmeans==0,1],s=100,c='magenta')\n",
    "plt.scatter(x[y_kmeans==1,0],x[y_kmeans==1,1],s=100,c='blue')\n",
    "plt.scatter(x[y_kmeans==2,0],x[y_kmeans==2,1],s=100,c='green')\n",
    "plt.scatter(x[y_kmeans==3,0],x[y_kmeans==3,1],s=100,c='black')\n",
    "plt.scatter(x[y_kmeans==4,0],x[y_kmeans==4,1],s=100,c='burlywood')\n",
    "plt.scatter(x[y_kmeans==5,0],x[y_kmeans==5,1],s=100,c='navy')\n",
    "\n",
    "plt.scatter(kmeans.cluster_centers_[:,0],kmeans.cluster_centers_[:,1],s=200,c='red',label='Centroids')\n",
    "plt.title('Clusters')\n",
    "plt.xlabel('ApplicantIncome')\n",
    "plt.ylabel('Credit_History')\n",
    "plt.legend()\n",
    "plt.ylim(0,1)\n",
    "plt.show()\n"
   ]
  },
  {
   "cell_type": "code",
   "execution_count": 41,
   "metadata": {},
   "outputs": [
    {
     "data": {
      "image/png": "[encoded data removed]",
      "text/plain": [
       "<Figure size 432x288 with 1 Axes>"
      ]
     },
     "metadata": {
      "needs_background": "light"
     },
     "output_type": "display_data"
    }
   ],
   "source": [
    "import scipy.cluster.hierarchy as sch\n",
    "from scipy.cluster.hierarchy import linkage, dendrogram\n",
    "from sklearn.cluster import AgglomerativeClustering\n",
    "# %% dendrogram\n",
    "merg = linkage(test,method=\"ward\")\n",
    "dendrogram(merg)\n",
    "plt.xlabel(\"data points\")\n",
    "plt.ylabel(\"euclidean distance\")\n",
    "plt.show()"
   ]
  },
  {
   "cell_type": "code",
   "execution_count": null,
   "metadata": {},
   "outputs": [],
   "source": []
  },
  {
   "cell_type": "markdown",
   "metadata": {},
   "source": [
    "### 18.Fit agglomerative hierarchical clustering\n",
    "\n"
   ]
  },
  {
   "cell_type": "code",
   "execution_count": 42,
   "metadata": {},
   "outputs": [
    {
     "data": {
      "text/plain": [
       "array([0, 0, 0, 0, 0, 0, 0, 0, 0, 0, 0, 0, 0, 0, 0, 0, 0, 0, 0, 0, 0, 0,\n",
       "       0, 0, 0, 0, 0, 0, 0, 0, 0, 0, 0, 0, 0, 0, 0, 0, 0, 0, 0, 0, 0, 0,\n",
       "       0, 0, 0, 0, 0, 0, 0, 0, 0, 0, 0, 0, 0, 0, 0, 0, 0, 0, 0, 0, 0, 0,\n",
       "       0, 0, 0, 0, 0, 0, 0, 0, 0, 0, 0, 0, 0, 0, 0, 1, 0, 0, 0, 0, 0, 0,\n",
       "       0, 0, 0, 0, 0, 0, 0, 0, 0, 0, 0, 0, 0, 0, 0, 0, 0, 0, 0, 0, 0, 0,\n",
       "       0, 0, 0, 0, 0, 0, 0, 0, 0, 0, 0, 0, 0, 0, 0, 0, 0, 0, 0, 0, 0, 0,\n",
       "       0, 0, 0, 0, 0, 0, 0, 0, 0, 0, 0, 0, 0, 0, 0, 0, 0, 0, 0, 0, 0, 0,\n",
       "       0, 0, 0, 0, 0, 0, 0, 0, 0, 0, 0, 0, 0, 0, 0, 0, 0, 0, 0, 0, 0, 0,\n",
       "       0, 0, 0, 0, 0, 0, 0, 0, 0, 0, 0, 0, 0, 0, 0, 0, 0, 0, 0, 0, 0, 0,\n",
       "       0, 0, 0, 0, 0, 0, 0, 0, 0, 0, 0, 0, 0, 0, 0, 0, 0, 0, 0, 0, 0, 0,\n",
       "       0, 0, 0, 0, 0, 0, 0, 0, 0, 0, 0, 0, 0, 0, 0, 0, 0, 0, 0, 0, 0, 0,\n",
       "       0, 0, 0, 0, 0, 0, 0, 0, 0, 0, 0, 0, 0, 0, 0, 0, 0, 0, 0, 0, 0, 0,\n",
       "       0, 0, 0, 0, 0, 0, 0, 0, 0, 0, 0, 0, 0, 0, 0, 0, 0, 0, 0, 0, 0, 0,\n",
       "       0, 0, 0, 0, 0, 0, 0, 0, 0, 0, 0, 0, 0, 0, 0, 0, 0, 0, 0, 0, 0, 0,\n",
       "       0, 0, 0, 0, 0, 0, 0, 0, 0, 0, 0, 0, 0, 0, 0, 0, 0, 0, 0, 0, 0, 0,\n",
       "       0, 0, 0, 0, 0, 0, 0, 0, 0, 0, 0, 0, 0, 0, 0, 0, 0, 0, 0, 0, 0, 0,\n",
       "       0, 0, 0, 0, 0, 0, 0, 0, 0, 0, 0, 0, 0, 0, 0], dtype=int64)"
      ]
     },
     "execution_count": 42,
     "metadata": {},
     "output_type": "execute_result"
    }
   ],
   "source": [
    "h_c = AgglomerativeClustering(n_clusters = 2,affinity= \"euclidean\",linkage = \"ward\")\n",
    "cluster_hc = h_c.fit_predict(test)\n",
    "cluster_hc"
   ]
  },
  {
   "cell_type": "markdown",
   "metadata": {},
   "source": [
    "### 19.Lets plot those clusters!\n",
    "\n"
   ]
  },
  {
   "cell_type": "code",
   "execution_count": 43,
   "metadata": {},
   "outputs": [
    {
     "data": {
      "image/png": "[encoded data removed]",
      "text/plain": [
       "<Figure size 360x360 with 1 Axes>"
      ]
     },
     "metadata": {
      "needs_background": "light"
     },
     "output_type": "display_data"
    }
   ],
   "source": [
    "fig = plt.figure(figsize = (5,5))\n",
    "plt.scatter(x[y_kmeans==0,0],x[y_kmeans==0,1],s=100,c='magenta')\n",
    "plt.scatter(x[y_kmeans==1,0],x[y_kmeans==1,1],s=100,c='blue')\n",
    "plt.scatter(x[y_kmeans==2,0],x[y_kmeans==2,1],s=100,c='green')\n",
    "plt.scatter(x[y_kmeans==3,0],x[y_kmeans==3,1],s=100,c='black')\n",
    "plt.scatter(x[y_kmeans==4,0],x[y_kmeans==4,1],s=100,c='burlywood')\n",
    "plt.scatter(x[y_kmeans==5,0],x[y_kmeans==5,1],s=100,c='navy')\n",
    "\n",
    "plt.scatter(kmeans.cluster_centers_[:,0],kmeans.cluster_centers_[:,1],s=200,c='red',label='Centroids')\n",
    "plt.title('Clusters')\n",
    "plt.xlabel('ApplicantIncome')\n",
    "plt.ylabel('Credit_History')\n",
    "plt.legend()\n",
    "plt.ylim(0,1)\n",
    "plt.show()"
   ]
  },
  {
   "cell_type": "code",
   "execution_count": null,
   "metadata": {},
   "outputs": [],
   "source": []
  }
 ],
 "metadata": {
  "kernelspec": {
   "display_name": "Python 3",
   "language": "python",
   "name": "python3"
  },
  "language_info": {
   "codemirror_mode": {
    "name": "ipython",
    "version": 3
   },
   "file_extension": ".py",
   "mimetype": "text/x-python",
   "name": "python",
   "nbconvert_exporter": "python",
   "pygments_lexer": "ipython3",
   "version": "3.7.6"
  }
 },
 "nbformat": 4,
 "nbformat_minor": 4
}
